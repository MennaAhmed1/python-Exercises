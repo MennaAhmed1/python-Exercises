{
  "nbformat": 4,
  "nbformat_minor": 0,
  "metadata": {
    "colab": {
      "provenance": [],
      "collapsed_sections": [],
      "authorship_tag": "ABX9TyNDJxCfk6ZMqct2KvBxZH/H",
      "include_colab_link": true
    },
    "kernelspec": {
      "name": "python3",
      "display_name": "Python 3"
    },
    "language_info": {
      "name": "python"
    }
  },
  "cells": [
    {
      "cell_type": "markdown",
      "metadata": {
        "id": "view-in-github",
        "colab_type": "text"
      },
      "source": [
        "<a href=\"https://colab.research.google.com/github/MennaAhmed1/python-Exercises/blob/main/exercises.ipynb\" target=\"_parent\"><img src=\"https://colab.research.google.com/assets/colab-badge.svg\" alt=\"Open In Colab\"/></a>"
      ]
    },
    {
      "cell_type": "code",
      "execution_count": 6,
      "metadata": {
        "colab": {
          "base_uri": "https://localhost:8080/"
        },
        "id": "hdC0-J5Qv4C8",
        "outputId": "8457e34b-cb54-4ff2-c55d-8836be7d6182"
      },
      "outputs": [
        {
          "output_type": "stream",
          "name": "stdout",
          "text": [
            "Printing Array\n",
            "[[48304  3932]\n",
            " [32752     0]\n",
            " [65200  3491]\n",
            " [32752     0]]\n",
            "Printing numpy array Attributes\n",
            "1> Array Shape is:  (4, 2)\n",
            "2>. Array dimensions are  2\n",
            "3>. Length of each element of array in bytes  2\n"
          ]
        }
      ],
      "source": [
        "import numpy\n",
        "\n",
        "firstArray = numpy.empty([4,2], dtype = numpy.uint16) \n",
        "print(\"Printing Array\")\n",
        "print(firstArray)\n",
        "\n",
        "print(\"Printing numpy array Attributes\")\n",
        "print(\"1> Array Shape is: \", firstArray.shape)\n",
        "print(\"2>. Array dimensions are \", firstArray.ndim)\n",
        "print(\"3>. Length of each element of array in bytes \", firstArray.itemsize)"
      ]
    },
    {
      "cell_type": "code",
      "source": [
        "import numpy\n",
        "\n",
        "print(\"Creating 5X2 array using numpy.arange\")\n",
        "sampleArray = numpy.arange(100, 200, 10)\n",
        "sampleArray = sampleArray.reshape(5,2)\n",
        "print (sampleArray)\n"
      ],
      "metadata": {
        "colab": {
          "base_uri": "https://localhost:8080/"
        },
        "id": "S_oFm_5Qv6Z_",
        "outputId": "7506a2e1-5158-4d85-8fff-4f5525fea29b"
      },
      "execution_count": 2,
      "outputs": [
        {
          "output_type": "stream",
          "name": "stdout",
          "text": [
            "Creating 5X2 array using numpy.arange\n",
            "[[100 110]\n",
            " [120 130]\n",
            " [140 150]\n",
            " [160 170]\n",
            " [180 190]]\n"
          ]
        }
      ]
    },
    {
      "cell_type": "code",
      "source": [
        "import numpy\n",
        "\n",
        "sampleArray = numpy.array([[11 ,22, 33], [44, 55, 66], [77, 88, 99]]) \n",
        "print(\"Printing Input Array\")\n",
        "print(sampleArray)\n",
        "\n",
        "print(\"\\n Printing array of items in the third column from all rows\")\n",
        "newArray = sampleArray[...,2]\n",
        "print(newArray)"
      ],
      "metadata": {
        "colab": {
          "base_uri": "https://localhost:8080/"
        },
        "id": "4cKfJas_v6ju",
        "outputId": "fb89585b-fce5-441d-a3a2-f56a94c2aa39"
      },
      "execution_count": 3,
      "outputs": [
        {
          "output_type": "stream",
          "name": "stdout",
          "text": [
            "Printing Input Array\n",
            "[[11 22 33]\n",
            " [44 55 66]\n",
            " [77 88 99]]\n",
            "\n",
            " Printing array of items in the third column from all rows\n",
            "[33 66 99]\n"
          ]
        }
      ]
    },
    {
      "cell_type": "code",
      "source": [
        "import numpy\n",
        "\n",
        "sampleArray = numpy.array([[3 ,6, 9, 12], [15 ,18, 21, 24], \n",
        "[27 ,30, 33, 36], [39 ,42, 45, 48], [51 ,54, 57, 60]]) \n",
        "print(\"Printing Input Array\")\n",
        "print(sampleArray)\n",
        "\n",
        "print(\"\\n Printing array of odd rows and even columns\")\n",
        "newArray = sampleArray[::2, 1::2]\n",
        "print(newArray)"
      ],
      "metadata": {
        "id": "KMrFmzhIxXgA"
      },
      "execution_count": null,
      "outputs": []
    },
    {
      "cell_type": "code",
      "source": [
        "import numpy\n",
        "\n",
        "arrayOne = numpy.array([[5, 6, 9], [21 ,18, 27]])\n",
        "arrayTwo = numpy.array([[15 ,33, 24], [4 ,7, 1]])\n",
        "\n",
        "resultArray  = arrayOne + arrayTwo\n",
        "print(\"addition of two arrays is \\n\")\n",
        "print(resultArray)\n",
        "\n",
        "for num in numpy.nditer(resultArray, op_flags = ['readwrite']):\n",
        "   num[...] = num*num\n",
        "print(\"\\nResult array after calculating the square root of all elements\\n\")\n",
        "print(resultArray)"
      ],
      "metadata": {
        "colab": {
          "base_uri": "https://localhost:8080/"
        },
        "id": "dKemG9xXxXj3",
        "outputId": "38799edb-f1a7-4089-9d94-0302cbe1faba"
      },
      "execution_count": 4,
      "outputs": [
        {
          "output_type": "stream",
          "name": "stdout",
          "text": [
            "addition of two arrays is \n",
            "\n",
            "[[20 39 33]\n",
            " [25 25 28]]\n",
            "\n",
            "Result array after calculating the square root of all elements\n",
            "\n",
            "[[ 400 1521 1089]\n",
            " [ 625  625  784]]\n"
          ]
        }
      ]
    },
    {
      "cell_type": "code",
      "source": [
        "import pandas as pd\n",
        "q = pd.read_csv('/content/CarPrice_Assignment.csv')\n",
        "w=q.dropna()\n",
        "print(w)\n",
        "q.fillna(0,inplace=True)"
      ],
      "metadata": {
        "colab": {
          "base_uri": "https://localhost:8080/"
        },
        "id": "ySL-uWh9v6sW",
        "outputId": "1528f8b4-679a-4b8a-de63-251cfd4e7dd6"
      },
      "execution_count": 9,
      "outputs": [
        {
          "output_type": "stream",
          "name": "stdout",
          "text": [
            "     car_ID  symboling                   CarName fueltype aspiration  \\\n",
            "0         1          3        alfa-romero giulia      gas        std   \n",
            "1         2          3       alfa-romero stelvio      gas        std   \n",
            "2         3          1  alfa-romero Quadrifoglio      gas        std   \n",
            "3         4          2               audi 100 ls      gas        std   \n",
            "4         5          2                audi 100ls      gas        std   \n",
            "..      ...        ...                       ...      ...        ...   \n",
            "200     201         -1           volvo 145e (sw)      gas        std   \n",
            "201     202         -1               volvo 144ea      gas      turbo   \n",
            "202     203         -1               volvo 244dl      gas        std   \n",
            "203     204         -1                 volvo 246   diesel      turbo   \n",
            "204     205         -1               volvo 264gl      gas      turbo   \n",
            "\n",
            "    doornumber      carbody drivewheel enginelocation  wheelbase  ...  \\\n",
            "0          two  convertible        rwd          front       88.6  ...   \n",
            "1          two  convertible        rwd          front       88.6  ...   \n",
            "2          two    hatchback        rwd          front       94.5  ...   \n",
            "3         four        sedan        fwd          front       99.8  ...   \n",
            "4         four        sedan        4wd          front       99.4  ...   \n",
            "..         ...          ...        ...            ...        ...  ...   \n",
            "200       four        sedan        rwd          front      109.1  ...   \n",
            "201       four        sedan        rwd          front      109.1  ...   \n",
            "202       four        sedan        rwd          front      109.1  ...   \n",
            "203       four        sedan        rwd          front      109.1  ...   \n",
            "204       four        sedan        rwd          front      109.1  ...   \n",
            "\n",
            "     enginesize  fuelsystem  boreratio  stroke compressionratio horsepower  \\\n",
            "0           130        mpfi       3.47    2.68              9.0        111   \n",
            "1           130        mpfi       3.47    2.68              9.0        111   \n",
            "2           152        mpfi       2.68    3.47              9.0        154   \n",
            "3           109        mpfi       3.19    3.40             10.0        102   \n",
            "4           136        mpfi       3.19    3.40              8.0        115   \n",
            "..          ...         ...        ...     ...              ...        ...   \n",
            "200         141        mpfi       3.78    3.15              9.5        114   \n",
            "201         141        mpfi       3.78    3.15              8.7        160   \n",
            "202         173        mpfi       3.58    2.87              8.8        134   \n",
            "203         145         idi       3.01    3.40             23.0        106   \n",
            "204         141        mpfi       3.78    3.15              9.5        114   \n",
            "\n",
            "     peakrpm citympg  highwaympg    price  \n",
            "0       5000      21          27  13495.0  \n",
            "1       5000      21          27  16500.0  \n",
            "2       5000      19          26  16500.0  \n",
            "3       5500      24          30  13950.0  \n",
            "4       5500      18          22  17450.0  \n",
            "..       ...     ...         ...      ...  \n",
            "200     5400      23          28  16845.0  \n",
            "201     5300      19          25  19045.0  \n",
            "202     5500      18          23  21485.0  \n",
            "203     4800      26          27  22470.0  \n",
            "204     5400      19          25  22625.0  \n",
            "\n",
            "[205 rows x 26 columns]\n"
          ]
        }
      ]
    },
    {
      "cell_type": "code",
      "source": [
        "j=pd.read_csv(\"CarPrice_Assignment.csv\")\n",
        "max=j[['CarName','price']][j.price==j['price'].max()]\n",
        "print(max)"
      ],
      "metadata": {
        "colab": {
          "base_uri": "https://localhost:8080/"
        },
        "id": "49NzSGTO0qfQ",
        "outputId": "dbafc2d0-159a-4564-f3af-5272191c6a27"
      },
      "execution_count": 10,
      "outputs": [
        {
          "output_type": "stream",
          "name": "stdout",
          "text": [
            "                            CarName    price\n",
            "74  buick regal sport coupe (turbo)  45400.0\n"
          ]
        }
      ]
    },
    {
      "cell_type": "code",
      "source": [
        "car = q.groupby('CarName')\n",
        "x = car.get_group('audi 100 ls')\n",
        "print(x)"
      ],
      "metadata": {
        "colab": {
          "base_uri": "https://localhost:8080/"
        },
        "id": "I25Wg27b0qlH",
        "outputId": "c08b101c-b350-4c7c-86f5-66b76f3e8cf0"
      },
      "execution_count": 12,
      "outputs": [
        {
          "output_type": "stream",
          "name": "stdout",
          "text": [
            "   car_ID  symboling      CarName fueltype aspiration doornumber carbody  \\\n",
            "3       4          2  audi 100 ls      gas        std       four   sedan   \n",
            "\n",
            "  drivewheel enginelocation  wheelbase  ...  enginesize  fuelsystem  \\\n",
            "3        fwd          front       99.8  ...         109        mpfi   \n",
            "\n",
            "   boreratio  stroke compressionratio horsepower  peakrpm citympg  highwaympg  \\\n",
            "3       3.19     3.4             10.0        102     5500      24          30   \n",
            "\n",
            "     price  \n",
            "3  13950.0  \n",
            "\n",
            "[1 rows x 26 columns]\n"
          ]
        }
      ]
    },
    {
      "cell_type": "code",
      "source": [
        "q['CarName'].value_counts()"
      ],
      "metadata": {
        "colab": {
          "base_uri": "https://localhost:8080/"
        },
        "id": "ZUYA1dhh0qn3",
        "outputId": "987ae507-edf6-4bfa-dfef-a99306b43984"
      },
      "execution_count": 13,
      "outputs": [
        {
          "output_type": "execute_result",
          "data": {
            "text/plain": [
              "toyota corona           6\n",
              "toyota corolla          6\n",
              "peugeot 504             6\n",
              "subaru dl               4\n",
              "mitsubishi mirage g4    3\n",
              "                       ..\n",
              "mazda glc 4             1\n",
              "mazda rx2 coupe         1\n",
              "maxda glc deluxe        1\n",
              "maxda rx3               1\n",
              "volvo 246               1\n",
              "Name: CarName, Length: 147, dtype: int64"
            ]
          },
          "metadata": {},
          "execution_count": 13
        }
      ]
    },
    {
      "cell_type": "code",
      "source": [
        "x = q.groupby('CarName')\n",
        "y = x['CarName','price'].max()\n",
        "print(y)"
      ],
      "metadata": {
        "colab": {
          "base_uri": "https://localhost:8080/"
        },
        "id": "zG8cbcxo0qqX",
        "outputId": "463592ae-85ad-4b27-a584-eaa9f7077646"
      },
      "execution_count": 14,
      "outputs": [
        {
          "output_type": "stream",
          "name": "stdout",
          "text": [
            "                                           CarName    price\n",
            "CarName                                                    \n",
            "Nissan versa                          Nissan versa   5499.0\n",
            "alfa-romero Quadrifoglio  alfa-romero Quadrifoglio  16500.0\n",
            "alfa-romero giulia              alfa-romero giulia  13495.0\n",
            "alfa-romero stelvio            alfa-romero stelvio  16500.0\n",
            "audi 100 ls                            audi 100 ls  13950.0\n",
            "...                                            ...      ...\n",
            "volvo 246                                volvo 246  22470.0\n",
            "volvo 264gl                            volvo 264gl  22625.0\n",
            "volvo diesel                          volvo diesel  18950.0\n",
            "vw dasher                                vw dasher  11595.0\n",
            "vw rabbit                                vw rabbit   9980.0\n",
            "\n",
            "[147 rows x 2 columns]\n"
          ]
        },
        {
          "output_type": "stream",
          "name": "stderr",
          "text": [
            "/usr/local/lib/python3.7/dist-packages/ipykernel_launcher.py:2: FutureWarning: Indexing with multiple keys (implicitly converted to a tuple of keys) will be deprecated, use a list instead.\n",
            "  \n"
          ]
        }
      ]
    }
  ]
}